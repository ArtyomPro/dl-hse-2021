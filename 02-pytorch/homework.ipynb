{
 "cells": [
  {
   "cell_type": "markdown",
   "metadata": {},
   "source": [
    "# PyTorch basics\n",
    "\n",
    "<a href=\"https://colab.research.google.com/github/m12sl/dl-hse-2021/blob/master/02-pytorch/homework.ipynb\" target=\"_parent\">\n",
    "  <img src=\"https://colab.research.google.com/assets/colab-badge.svg\" alt=\"Open In Colab\"/>\n",
    "</a>\n",
    "\n",
    "В этой тетрадке мы познакомимся с общими принципами построения нейронных сетей.\n",
    "\n",
    "**Цели тетрадки**\n",
    "\n",
    "1. Знакомство с базовыми слоями PyTorch\n",
    "1. Практика в построении и обучении сетей\n",
    "\n",
    "**(повтор) Материалы по pytorch:**\n",
    "\n",
    "* [PyTorch docs](https://pytorch.org/docs/stable/index.html)\n",
    "* [Классная статья про pytorch internal](http://blog.ezyang.com/2019/05/pytorch-internals/)"
   ]
  },
  {
   "cell_type": "markdown",
   "metadata": {},
   "source": [
    "## Prerequirements\n",
    "\n",
    "```\n",
    "pip install torch torchvision numpy matplotlib\n",
    "```"
   ]
  },
  {
   "cell_type": "code",
   "execution_count": null,
   "metadata": {
    "execution": {
     "iopub.execute_input": "2021-01-24T12:02:03.697132Z",
     "iopub.status.busy": "2021-01-24T12:02:03.696647Z",
     "iopub.status.idle": "2021-01-24T12:02:05.150001Z",
     "shell.execute_reply": "2021-01-24T12:02:05.148949Z",
     "shell.execute_reply.started": "2021-01-24T12:02:03.697089Z"
    }
   },
   "outputs": [],
   "source": [
    "import torch\n",
    "import torch.nn as nn\n",
    "import torch.nn.functional as F\n",
    "from torch.utils.data import Dataset, DataLoader\n",
    "\n",
    "from torchvision import transforms\n",
    "from torchvision.datasets import MNIST\n",
    "\n",
    "import matplotlib.pyplot as plt"
   ]
  },
  {
   "cell_type": "markdown",
   "metadata": {},
   "source": [
    "## Hello MNIST\n",
    "\n",
    "Прежде чем собирать сеть, давайте определим инстансы класса `Dataset`, которые будут возвращать примеры из тренировочной и валидационной выборок.  \n",
    "С помощью ячейки ниже, мы скачаем датасет [MNIST](http://yann.lecun.com/exdb/mnist/) в текущую директорию и сможем получать примеры из соответствующих объектов."
   ]
  },
  {
   "cell_type": "code",
   "execution_count": null,
   "metadata": {
    "execution": {
     "iopub.execute_input": "2021-01-24T12:02:05.151814Z",
     "iopub.status.busy": "2021-01-24T12:02:05.151568Z",
     "iopub.status.idle": "2021-01-24T12:02:05.214937Z",
     "shell.execute_reply": "2021-01-24T12:02:05.214337Z",
     "shell.execute_reply.started": "2021-01-24T12:02:05.151789Z"
    }
   },
   "outputs": [],
   "source": [
    "transform_to_tensor = transforms.Compose([\n",
    "    transforms.ToTensor()\n",
    "])\n",
    "\n",
    "mnist_train = MNIST(root='./', train=True, download=True, transform=transform_to_tensor)\n",
    "mnist_val = MNIST(root='./', train=False, download=True, transform=transform_to_tensor)"
   ]
  },
  {
   "cell_type": "markdown",
   "metadata": {},
   "source": [
    "Посмотрим на несколько примеров из тренировочной выборки"
   ]
  },
  {
   "cell_type": "code",
   "execution_count": null,
   "metadata": {
    "execution": {
     "iopub.execute_input": "2021-01-24T12:02:05.217079Z",
     "iopub.status.busy": "2021-01-24T12:02:05.216708Z",
     "iopub.status.idle": "2021-01-24T12:02:05.417572Z",
     "shell.execute_reply": "2021-01-24T12:02:05.416852Z",
     "shell.execute_reply.started": "2021-01-24T12:02:05.217052Z"
    }
   },
   "outputs": [],
   "source": [
    "def show_examples(dataset: Dataset, num_examples: int = 4):\n",
    "    fig, ax = plt.subplots(1, num_examples)\n",
    "    \n",
    "    for i in range(num_examples):\n",
    "        img, label = dataset[i]\n",
    "        ax[i].imshow(img[0])\n",
    "        ax[i].set_title(f'label: {label}')\n",
    "        ax[i].axis('off')\n",
    "    plt.show()\n",
    "    \n",
    "    \n",
    "show_examples(dataset=mnist_train)"
   ]
  },
  {
   "cell_type": "markdown",
   "metadata": {},
   "source": [
    "## Задание 1 (бонус)\n",
    "**(0.4 балла, бонус)** Напишите свою версию датасета, который будет читать картинки с диска.  \n",
    "Подразумевается, что если вы написали свой датасет, то он будет использоваться при обучении вместо дефолтного `MNIST`.  \n",
    "Вам понадобится архив [Google Drive](https://drive.google.com/file/d/1DOtScRd7la_sJflLgoNa0vFUuhjlVHa7/view?usp=sharing):\n",
    "- /\n",
    "    - /train.csv\n",
    "    - /val.csv\n",
    "    - /train/{image_name}.png\n",
    "    - /val/{image_name}.png\n",
    "\n",
    "CSV файлы содержат название файла и его лейбл: image_name, label.\n",
    "\n",
    "*Hint 1:* нужно унаследоваться от класса `Dataset` и переопределить методы `__getitem__` и `__len__`.\n",
    "Первый должен возвращать картинку и ее лейбл, а второй количество примеров в датасете.\n",
    "(На самом деле второй метод не обязателен для самого датасета, но он необходим для\n",
    "[семплера](https://pytorch.org/docs/stable/data.html#torch.utils.data.RandomSampler),\n",
    "который используется даталоадером)\n",
    "(см. [PyTorch docs](https://pytorch.org/docs/stable/data.html#torch.utils.data.Dataset),\n",
    "[PyTorch tutorual](https://pytorch.org/tutorials/recipes/recipes/custom_dataset_transforms_loader.html?highlight=dataset))  \n",
    "*Hint 2:* для работы с картиноками лучше использовать OpenCV: `pip install opencv-python-headless`.\n",
    "В частности [cv2.imread](https://docs.opencv.org/master/d4/da8/group__imgcodecs.html#ga288b8b3da0892bd651fce07b3bbd3a56).  \n",
    "*Hint 3:* обратите особое внимание на то, что возвращает функция `cv2.imread`"
   ]
  },
  {
   "cell_type": "code",
   "execution_count": null,
   "metadata": {},
   "outputs": [],
   "source": [
    "class DatasetMNIST(Dataset):\n",
    "    def __init__(self):\n",
    "        pass\n",
    "\n",
    "    def __len__(self):\n",
    "        pass\n",
    "    \n",
    "    def __getitem__(self, index):\n",
    "        pass"
   ]
  },
  {
   "cell_type": "markdown",
   "metadata": {},
   "source": [
    "## Задание 2\n",
    "**(0.3 балла)** Напишите класс MLP сети из 3 линейных слоев, которая будет получать на вход\n",
    "батч картинок размера [BS, C, H, W]\n",
    "\n",
    "*Hint 1:* метод `reshape` поможет вытянуть картинку в вектор.  \n",
    "*Hint 2:* выход должен соответствовать количеству лейблов, то есть 10.  \n",
    "*Hint 3:* пачка линейных слоев подряд не имеет смысла без нелинейностей между ними."
   ]
  },
  {
   "cell_type": "code",
   "execution_count": null,
   "metadata": {},
   "outputs": [],
   "source": [
    "class CustomMLP(nn.Module):\n",
    "    def __init__(self,\n",
    "                 num_pixels_per_img: int = 784,  # hint: 28*28 == 784\n",
    "                 ):\n",
    "        super().__init__()\n",
    "        \n",
    "        # here you can init layers and stack them with nn.Sequential\n",
    "#         layers = nn.Sequential([])\n",
    "        \n",
    "    def forward(self, x):\n",
    "        # describe usage of layers here, be careful with input shape\n",
    "        pass\n",
    "    \n",
    "    def compute_all(self, batch):\n",
    "        pass"
   ]
  },
  {
   "cell_type": "markdown",
   "metadata": {},
   "source": [
    "## Задание 3\n",
    "**(0.3 балла)** Напишите класс CNN сети из 3 сверточных слоев.\n",
    "\n",
    "*Hint 1:* на вход все те же батчи размера [BS, C, H, W]  \n",
    "*Hint 2:* описание сверточных слоев [PyTorch docs](https://pytorch.org/docs/stable/nn.html#convolution-layers)"
   ]
  },
  {
   "cell_type": "code",
   "execution_count": null,
   "metadata": {},
   "outputs": [],
   "source": [
    "class CustomCNN(nn.Module):\n",
    "    def __init__(self):\n",
    "        super().__init__()\n",
    "        \n",
    "        # here you can init layers and stack them with nn.Sequential\n",
    "#         layers = nn.Sequential([])\n",
    "        \n",
    "    def forward(self, x):\n",
    "        # describe usage of layers here, be careful with input shape\n",
    "        pass\n",
    "    \n",
    "    def compute_all(self, batch):\n",
    "        pass"
   ]
  },
  {
   "cell_type": "markdown",
   "metadata": {},
   "source": [
    "## Задание 4\n",
    "**(0.3 балла)** Напишите класс CNN сети из 3 блоков с добавлением skip-connection блока\n",
    "(ResNet [paper](https://arxiv.org/abs/1512.03385)).  \n",
    "**(0.2 балла, бонус)** Реализовать residual блок в отдельном классе `ResBlock`.\n",
    "\n",
    "*Hint 1:* на вход все те же батчи размера [BS, C, H, W]  \n",
    "*Hint 2:* пример skip-connection:  \n",
    "![image](https://i1.wp.com/dangminhthang.com/wp-content/uploads/2020/06/resnet-block.jpg?fit=400%2C225)"
   ]
  },
  {
   "cell_type": "code",
   "execution_count": null,
   "metadata": {},
   "outputs": [],
   "source": [
    "class ResBlock(nn.Module):\n",
    "    def __init__(self):\n",
    "        super().__init__()\n",
    "        \n",
    "    def forward(self, x):\n",
    "        pass\n",
    "    \n",
    "    def compute_all(self, batch):\n",
    "        pass\n",
    "\n",
    "\n",
    "class CustomResNet(nn.Module):\n",
    "    def __init__(self):\n",
    "        super().__init__()\n",
    "        \n",
    "        # here you can init layers and stack them with nn.Sequential\n",
    "#         layers = nn.Sequential([])\n",
    "        \n",
    "    def forward(self, x):\n",
    "        # describe usage of layers here, be careful with input shape\n",
    "        pass\n",
    "    \n",
    "    def compute_all(self, batch):\n",
    "        pass"
   ]
  },
  {
   "cell_type": "markdown",
   "metadata": {},
   "source": [
    "## Задание 5\n",
    "**(0.1 балла)** Инициализируйте и обучите сети из пунктов 1, 2, 3, используя класс `Trainer` из семинара."
   ]
  },
  {
   "cell_type": "code",
   "execution_count": null,
   "metadata": {},
   "outputs": [],
   "source": [
    "model = SomeModel()\n",
    "opt = optim.SGD(model.parameters(), lr=1e-2)\n",
    "trainer = Trainer(model, opt, mnist_train, mnist_val, batch_size=128)"
   ]
  },
  {
   "cell_type": "code",
   "execution_count": null,
   "metadata": {},
   "outputs": [],
   "source": []
  },
  {
   "cell_type": "code",
   "execution_count": null,
   "metadata": {},
   "outputs": [],
   "source": []
  }
 ],
 "metadata": {
  "kernelspec": {
   "display_name": "Python 3",
   "language": "python",
   "name": "python3"
  },
  "language_info": {
   "codemirror_mode": {
    "name": "ipython",
    "version": 3
   },
   "file_extension": ".py",
   "mimetype": "text/x-python",
   "name": "python",
   "nbconvert_exporter": "python",
   "pygments_lexer": "ipython3",
   "version": "3.6.9"
  },
  "toc-autonumbering": false
 },
 "nbformat": 4,
 "nbformat_minor": 4
}
