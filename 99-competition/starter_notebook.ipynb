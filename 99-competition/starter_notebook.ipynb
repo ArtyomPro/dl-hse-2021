{
 "cells": [
  {
   "cell_type": "markdown",
   "metadata": {
    "cellId": "ygmf7t9m5epgy2ew67c299"
   },
   "source": [
    "## Download data"
   ]
  },
  {
   "cell_type": "code",
   "execution_count": null,
   "metadata": {
    "cellId": "9p384j8v9gazca07lf0bci",
    "execution_id": "9c843ff2-595f-471a-ae29-b8530d54befe"
   },
   "outputs": [],
   "source": [
    "from cloud_ml.storage.api import Storage\n",
    "\n",
    "s3 = Storage.s3(access_key='Le9tg70HQEJsoGqjqXH8', secret_key='PUT_SECRET_HERE')\n",
    "s3.get_dir('dl-hse-2021/vggsound_small_contest/', './vggsound_small_contest/')"
   ]
  },
  {
   "cell_type": "code",
   "execution_count": null,
   "metadata": {
    "cellId": "452hmbftsrn82ix7as9ljs"
   },
   "outputs": [],
   "source": []
  }
 ],
 "metadata": {
  "kernelspec": {
   "display_name": "Python 3",
   "language": "python",
   "name": "python3"
  },
  "language_info": {
   "codemirror_mode": {
    "name": "ipython",
    "version": 3
   },
   "file_extension": ".py",
   "mimetype": "text/x-python",
   "name": "python",
   "nbconvert_exporter": "python",
   "pygments_lexer": "ipython3",
   "version": "3.8.6"
  },
  "notebookId": "c2e6d75a-c25a-4956-bd3d-4847aefccdc7"
 },
 "nbformat": 4,
 "nbformat_minor": 5
}
