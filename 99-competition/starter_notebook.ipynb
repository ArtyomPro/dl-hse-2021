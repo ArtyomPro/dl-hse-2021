{
 "cells": [
  {
   "cell_type": "markdown",
   "metadata": {},
   "source": [
    "# Hints"
   ]
  },
  {
   "cell_type": "markdown",
   "metadata": {
    "cellId": "ygmf7t9m5epgy2ew67c299"
   },
   "source": [
    "## Download data"
   ]
  },
  {
   "cell_type": "code",
   "execution_count": null,
   "metadata": {
    "cellId": "9p384j8v9gazca07lf0bci",
    "execution_id": "9c843ff2-595f-471a-ae29-b8530d54befe"
   },
   "outputs": [],
   "source": [
    "from cloud_ml.storage.api import Storage\n",
    "\n",
    "s3 = Storage.s3(access_key='Le9tg70HQEJsoGqjqXH8', secret_key='PUT_SECRET_HERE')\n",
    "s3.get_dir('dl-hse-2021/vggsound_small_contest/', './vggsound_small_contest/')"
   ]
  },
  {
   "cell_type": "markdown",
   "metadata": {},
   "source": [
    "## Read video"
   ]
  },
  {
   "cell_type": "markdown",
   "metadata": {},
   "source": [
    "Hints:\n",
    "* Читать видео можно с помощью OpenCV: [docs](https://docs.opencv.org/master/dd/d43/tutorial_py_video_display.html)\n",
    "* Чтение происходит покадрово. Пример в функции `read_full_video`\n",
    "* Далеко не всегда необходимо использовать все кадры из видео. \n",
    "    Чаще всего достаточно читать несколько кадров с равным отступом друг от друга. \n",
    "    Пример в фукнции `read_video_sample`\n",
    "* Разные видео могут иметь разные пространственные размерности. \n",
    "    Это проблема при формировании батчей. \n",
    "    Побороться с этим может помочь `cv2.resize(...)`\n",
    "* Разные видео могут иметь разное количетсво кадров. \n",
    "    Это проблема при формировании батчей. \n",
    "    Самое простое решение – паддинг нулевыми фреймами\n",
    "* `torch.nn.Conv3d` принимает особый порядок размерностей: [docs](https://pytorch.org/docs/stable/generated/torch.nn.Conv3d.html)"
   ]
  },
  {
   "cell_type": "code",
   "execution_count": null,
   "metadata": {
    "cellId": "452hmbftsrn82ix7as9ljs"
   },
   "outputs": [],
   "source": [
    "from pathlib import Path\n",
    "\n",
    "import cv2\n",
    "import numpy as np"
   ]
  },
  {
   "cell_type": "code",
   "execution_count": null,
   "metadata": {},
   "outputs": [],
   "source": [
    "def read_full_video(file_path: Path) -> np.ndarray:\n",
    "    cap = cv2.VideoCapture(file_path.as_posix())\n",
    "\n",
    "    frames_stack = []\n",
    "    while cap.isOpened():\n",
    "        ret = cap.grab()\n",
    "        if not ret:\n",
    "            break\n",
    "        \n",
    "        frame = cap.retrieve()[1]\n",
    "        frame = cv2.cvtColor(frame, cv2.COLOR_BGR2RGB)\n",
    "        frames_stack.append(frame)\n",
    "    cap.release()\n",
    "    video = np.stack(frames_stack)\n",
    "    \n",
    "    return video\n",
    "\n",
    "\n",
    "def read_video_sample(file_path: Path,\n",
    "                      num_frames_to_read: int) -> np.ndarray:\n",
    "    cap = cv2.VideoCapture(file_path.as_posix())\n",
    "    num_frames = int(cap.get(cv2.CAP_PROP_FRAME_COUNT))\n",
    "\n",
    "    if num_frames_to_read <= num_frames:\n",
    "        frames_idxs = np.linspace(0, num_frames-1, num_frames_to_read, dtype=np.int16)\n",
    "        frames_idxs = set(frames_idxs)\n",
    "    else:\n",
    "        raise ValueError(f'Param \"num_frames_to_read\" ({num_frames_to_read}) must be less or equal'\n",
    "                         f'than number of frames in given video ({num_frames})')\n",
    "\n",
    "    frames_stack, cur_frame_idx = [], 0\n",
    "    while cap.isOpened():\n",
    "        ret = cap.grab()\n",
    "        if not ret:\n",
    "            break\n",
    "\n",
    "        if cur_frame_idx in frames_idxs:\n",
    "            frame = cap.retrieve()[1]\n",
    "            frame = cv2.cvtColor(frame, cv2.COLOR_BGR2RGB)\n",
    "            frames_stack.append(frame)\n",
    "        cur_frame_idx += 1\n",
    "    cap.release()\n",
    "    video = np.stack(frames_stack)\n",
    "\n",
    "    return video"
   ]
  },
  {
   "cell_type": "markdown",
   "metadata": {},
   "source": [
    "## Read audio"
   ]
  },
  {
   "cell_type": "markdown",
   "metadata": {},
   "source": [
    "Hints:\n",
    "* Читать аудио можно с помощью librosa: [docs](https://librosa.org/doc/latest/core.html)\n",
    "* С аудио можно работать как с картинкой или как с сырым сигналом.\n",
    "* Внимательно посмотрите на параметры фукнции librosa.load(...). \n",
    "    Ресемплинг – это не очень дешевая операция\n",
    "* Разные аудио могут иметь разные sample rate и разную продолжительность. \n",
    "    Это снова проблема для сбора батчей. \n",
    "    Это можно решить паддингами"
   ]
  },
  {
   "cell_type": "code",
   "execution_count": null,
   "metadata": {
    "cellId": "452hmbftsrn82ix7as9ljs"
   },
   "outputs": [],
   "source": [
    "from pathlib import Path\n",
    "\n",
    "import librosa\n",
    "\n",
    "\n",
    "# Меня librosa часто заваливает предупреждениями о переключение бэкенда.\n",
    "#   не лучшее решение:\n",
    "# import warnings\n",
    "# warnings.filterwarnings('ignore', message='PySoundFile')"
   ]
  },
  {
   "cell_type": "code",
   "execution_count": null,
   "metadata": {},
   "outputs": [],
   "source": [
    "def read_audio(file_path: Path):\n",
    "    audio, sample_rate = librosa.load(file_path)\n",
    "    \n",
    "    return audio\n",
    "\n",
    "\n",
    "def audio_to_spectrogram(audio: np.ndarray,\n",
    "                         decibel_scale: bool = True,\n",
    "                         spec_kws: dict = {}) -> np.ndarray:\n",
    "        spec = np.abs(librosa.stft(audio, **spec_kws))\n",
    "\n",
    "        if decibel_scale:\n",
    "            spec = librosa.amplitude_to_db(spec, ref=np.max)\n",
    "\n",
    "        return spec"
   ]
  },
  {
   "cell_type": "code",
   "execution_count": null,
   "metadata": {},
   "outputs": [],
   "source": []
  }
 ],
 "metadata": {
  "kernelspec": {
   "display_name": "pr_python",
   "language": "python",
   "name": "pr_python"
  },
  "language_info": {
   "codemirror_mode": {
    "name": "ipython",
    "version": 3
   },
   "file_extension": ".py",
   "mimetype": "text/x-python",
   "name": "python",
   "nbconvert_exporter": "python",
   "pygments_lexer": "ipython3",
   "version": "3.8.6"
  },
  "notebookId": "c2e6d75a-c25a-4956-bd3d-4847aefccdc7"
 },
 "nbformat": 4,
 "nbformat_minor": 5
}
