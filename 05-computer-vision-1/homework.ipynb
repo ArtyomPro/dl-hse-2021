{
 "cells": [
  {
   "cell_type": "markdown",
   "metadata": {
    "cellId": "38lqsetzmcbfb8lk82ubeg",
    "id": "cIu1b5Xo4Bdd"
   },
   "source": [
    "# CV part one\n",
    "\n",
    "В этой тетрадке мы рассмотрим задачу распознавания лиц на примере датасета [CelebA](http://mmlab.ie.cuhk.edu.hk/projects/CelebA.html)\n",
    "\n",
    "**Предполагаем, что ноутбук запущен внутри Yandex DataSphere**"
   ]
  },
  {
   "cell_type": "code",
   "execution_count": null,
   "metadata": {
    "cellId": "212z2memf5cmplpkb5eb0s",
    "id": "TyTa9uFb4Bdl"
   },
   "outputs": [],
   "source": [
    "# from pathlib import Path\n",
    "\n",
    "import numpy as np\n",
    "# import pandas as pd\n",
    "# from tqdm import tqdm\n",
    "# import cv2\n",
    "\n",
    "# import torch\n",
    "import torch.nn as nn\n",
    "# import torch.nn.functional as F\n",
    "# from torch import optim\n",
    "from torch.utils.data import Dataset, DataLoader, Sampler\n",
    "from torchvision.models import resnet34\n",
    "# from torch.utils.tensorboard import SummaryWriter"
   ]
  },
  {
   "cell_type": "markdown",
   "metadata": {
    "cellId": "rgra31480u3h8nfb7hzj4",
    "id": "CiLnuFXG4Bdm"
   },
   "source": [
    "## Data\n",
    "\n",
    "Качаем архив с данными с Yandex Object Storage и распаковываем в текущую папку.\n",
    "\n",
    "Структура архива:\n",
    "- /celeba_data/\n",
    "    - train.csv\n",
    "    - val.csv\n",
    "    - images/{image}.jpg\n",
    "\n",
    "CSV файлы содержат название файла (`image`) и его лейбл (`label`)."
   ]
  },
  {
   "cell_type": "code",
   "execution_count": null,
   "metadata": {
    "cellId": "bo51i7oqlpdb9m8dwn3spm"
   },
   "outputs": [],
   "source": [
    "from cloud_ml.storage.api import Storage\n",
    "\n",
    "s3 = Storage.s3(access_key=\"Le9tg70HQEJsoGqjqXH8\", secret_key=\"PUT_SECRET_HERE\")\n",
    "# downloading contents of the remote file into the local one\n",
    "s3.get('dl-hse-2021/celeba_data.zip', './celeba_data.zip')"
   ]
  },
  {
   "cell_type": "code",
   "execution_count": null,
   "metadata": {
    "cellId": "mbja58q90lq40q6jedx575"
   },
   "outputs": [],
   "source": [
    "#!:bash\n",
    "unzip -q ./celeba_data.zip -d ./ && rm celeba_data.zip"
   ]
  },
  {
   "cell_type": "markdown",
   "metadata": {
    "cellId": "zrykja70wsr3sw184uq2t7",
    "id": "i8b_O3Y94Bdq"
   },
   "source": [
    "## Задание 1\n",
    "**(0.2 балла)** Напишите класс датасет, который будет возвращать картинку и ее лейбл."
   ]
  },
  {
   "cell_type": "code",
   "execution_count": null,
   "metadata": {
    "cellId": "oc7biaz3ye06kf75gvciv5"
   },
   "outputs": [],
   "source": [
    "class CelebADataset(Dataset):\n",
    "    def __init__(self):\n",
    "        pass\n",
    "\n",
    "    def __len__(self):\n",
    "        pass\n",
    "    \n",
    "    def __getitem__(self, index):\n",
    "        pass"
   ]
  },
  {
   "cell_type": "markdown",
   "metadata": {
    "cellId": "42liqfoavi30iheofhu1m2",
    "id": "i8b_O3Y94Bdq"
   },
   "source": [
    "## Задание 2\n",
    "**(0.2 балла)** Напишите функцию, которая будет считать метрику top-n accuracy.\n",
    "\n",
    "$$TopN \\ Accuracy = \\frac{Number \\ of \\ objects \\ with \\ correct \\ answer \\ among \\ topN \\ predictions}{Total \\ number \\ of \\ objects}$$\n",
    "\n",
    "*Example:*\n",
    "\n",
    "![image](https://www.baeldung.com/wp-content/ql-cache/quicklatex.com-ae746981c7a437b7e1fc2831e5d76d57_l3.svg)  \n",
    "$Top3 \\ Accuracy = \\frac{4}{5} = 0.8$\n",
    "\n",
    "*Hint:* Для каждого объекта выбираем `n` наиболее уверенных предсказаний. Если среди них есть правильный ответ, то увеличиваем числитель и знаменатель на единицу, иначе увеличиваем только знаменатель."
   ]
  },
  {
   "cell_type": "code",
   "execution_count": null,
   "metadata": {
    "cellId": "6btuqm12a69cz6fgag1coi"
   },
   "outputs": [],
   "source": [
    "def top_n_accuracy(preds: np.ndarray,\n",
    "                   targets: np.ndarray,\n",
    "                   n_size: int) -> float:\n",
    "    pass"
   ]
  },
  {
   "cell_type": "markdown",
   "metadata": {
    "cellId": "jgagu11ef1hwupvrwohxk",
    "id": "i8b_O3Y94Bdq"
   },
   "source": [
    "## Задание 3\n",
    "**(0.2 балла)** Решите задачу без дообучения.\n",
    "\n",
    "*Step-by-step:*\n",
    "1. Инициализируйте предобученную сетку (`backbone`).\n",
    "1. Прогоните через нее все картинки из валидационного датасета и сложите полученные эмбеддинги в массив.\n",
    "1. Для каждого вектора найдите ближайшие к нему векторы и отсортируйте их по расстоянию. Лейблы соседних векторов будут предсказаниями для текущего вектора.\n",
    "1. Оставьте топ-5 уникальных предсказаний.\n",
    "1. Посчитайте и выведите метрики:\n",
    "    1. top-1 accuracy\n",
    "    1. top-5 accuracy\n",
    "\n",
    "*Вопросы:*\n",
    "1. Зачем мы заменяем последний линейный слой на `Identity` ?\n",
    "1. Зачем используем на сетке метод `eval` ?"
   ]
  },
  {
   "cell_type": "code",
   "execution_count": null,
   "metadata": {
    "cellId": "yl7xyupggogu5wlbmxurgn"
   },
   "outputs": [],
   "source": [
    "backbone = resnet34(pretrained=True)\n",
    "backbone.fc = nn.Identity()\n",
    "backbone = backbone.eval()"
   ]
  },
  {
   "cell_type": "code",
   "execution_count": null,
   "metadata": {
    "cellId": "wqjdg9kcd1ws50vc56tx"
   },
   "outputs": [],
   "source": []
  },
  {
   "cell_type": "markdown",
   "metadata": {
    "cellId": "qyxj31ya2qg7ht7gehbftk",
    "id": "i8b_O3Y94Bdq"
   },
   "source": [
    "## Задание 4\n",
    "**(0.4 балла)** Решите задачу с дообучением на эмбеддингах.\n",
    "\n",
    "*Step-by-step:*\n",
    "1. Напишите небольшую сетку произвольной архитектуры, которая будет использовать эмбеды, выдаваемые `backbone` сетью.\n",
    "1. Напишите класс Dataset, который будет возвращать эмбединг и лейбл.\n",
    "1. Напишите класс Sampler [PyTroch docs](https://pytorch.org/docs/stable/data.html#data-loading-order-and-sampler), который будет отвечать за правильность сбора тренировочных батчей: якорный пример, позитивный, негативный.\n",
    "1. Обучите ее на тренировочном датасете:\n",
    "    1. Лосс -- [triplet loss](https://pytorch.org/docs/stable/generated/torch.nn.TripletMarginLoss.html).\n",
    "    1. Метрика -- top-5 accuracy.\n",
    "1. Посчитайте top-1 и top-5 accuracy на валидации. Насколько сильно они отличаются от того, что получилось в предыдущем задании?\n",
    "\n",
    "\n",
    "*Hints:*\n",
    "1. Убедитесь, что у каждого лейбла есть как минимум 2 примера, иначе не получится достать позитивный пример.\n",
    "1. Лучше предварительно прогнать все картинки из трейна и сохранить полученные эмбеддинги, чтобы при обучении сети грузить только эмбеды (векторы)."
   ]
  },
  {
   "cell_type": "code",
   "execution_count": null,
   "metadata": {
    "cellId": "sfrbw2jx1ca1cvv2j14w8f"
   },
   "outputs": [],
   "source": [
    "class CelebAEmbeddingDataset(Dataset):\n",
    "    def __init__(self):\n",
    "        pass\n",
    "\n",
    "    def __len__(self):\n",
    "        pass\n",
    "    \n",
    "    def __getitem__(self, index):\n",
    "        pass\n",
    "    \n",
    "\n",
    "class CelebATripletSampler(Sampler):\n",
    "    def __init__(self):\n",
    "        pass\n",
    "\n",
    "    def __len__(self):\n",
    "        pass\n",
    "\n",
    "    def __iter__(self):\n",
    "        pass"
   ]
  },
  {
   "cell_type": "code",
   "execution_count": null,
   "metadata": {
    "cellId": "us1usoehrak03je3xcdjkwo"
   },
   "outputs": [],
   "source": []
  },
  {
   "cell_type": "code",
   "execution_count": null,
   "metadata": {
    "cellId": "5lr9yul9izkgcxl55jdqjv"
   },
   "outputs": [],
   "source": [
    "# your code must be before example"
   ]
  },
  {
   "cell_type": "markdown",
   "metadata": {
    "cellId": "qmk3j5diof9try6p5pv3kh"
   },
   "source": [
    "## Sampler (simple example)\n",
    "\n",
    "В блоках ниже реализован пример датасета и сэмлера, который возвращает индексы для триплет лосса.\n",
    "\n",
    "Датасет написан топорно, но основная логика следующая. Если ему на вход приходит `int`, то он возвращает название картинки (`img_name`) и ее лейбл (`img_label`). Если же приходит нечто длиной 3, то он возвращает 3 названия картинок, соответственно. В нашем случае это будет три картинки с двумя одинаковыми лейблами и одним другим: anchor, positive, negative.  \n",
    "Сэмплер `SimpleTripletSampler`, в свою очередь, отвечает за формирование и поставку в датасет индексов триплетов.\n",
    "\n",
    "Датасет и сэмлер объединяются внутри даталоадера.\n",
    "\n",
    "*Hint:* Код написан только лишь для примера, поэтому логика возвращения триплетов может быть неверной."
   ]
  },
  {
   "cell_type": "code",
   "execution_count": null,
   "metadata": {
    "cellId": "03biv2ae8tcdrmqcc7q0p"
   },
   "outputs": [],
   "source": [
    "class SimpleDataset(Dataset):\n",
    "    def __init__(self, img_names: np.ndarray,\n",
    "                 img_labels: np.ndarray):\n",
    "        if len(img_names) != len(img_labels):\n",
    "            raise ValueError('img_names and img_labels must have equal number of elements')\n",
    "\n",
    "        self.img_names = img_names\n",
    "        self.img_labels = img_labels\n",
    "\n",
    "    def __len__(self):\n",
    "        return len(self.img_names)\n",
    "    \n",
    "    def __getitem__(self, idx):\n",
    "        if isinstance(idx, int):\n",
    "            img_name = self.img_names[idx]\n",
    "            img_label = self.img_labels[idx]\n",
    "            \n",
    "            return img_name, img_label\n",
    "        else:\n",
    "            assert len(idx) == 3\n",
    "            \n",
    "            anc_idx, pos_idx, neg_idx = idx\n",
    "            anc_img_name = self.img_names[anc_idx]\n",
    "            pos_img_name = self.img_names[pos_idx]\n",
    "            neg_img_name = self.img_names[neg_idx]\n",
    "\n",
    "            return anc_img_name, pos_img_name, neg_img_name\n",
    "\n",
    "\n",
    "class SimpleTripletSampler(Sampler):\n",
    "    def __init__(self, dataset: Dataset):\n",
    "        super().__init__(dataset)\n",
    "\n",
    "        self.dataset = dataset\n",
    "\n",
    "    def __len__(self):\n",
    "        return len(self.dataset)\n",
    "\n",
    "    def __iter__(self):\n",
    "        for anchor_idx in range(len(self.dataset)):\n",
    "            positive_idx = self._mine_positive(anchor_idx)\n",
    "            negative_idx = self._mine_negative(anchor_idx)\n",
    "\n",
    "            yield anchor_idx, positive_idx, negative_idx\n",
    "\n",
    "    def _mine_positive(self, anchor_idx: int):\n",
    "        labels: np.ndarray = self.dataset.img_labels\n",
    "\n",
    "        anchor_label = labels[anchor_idx]\n",
    "        pos_idxs = np.nonzero(labels == anchor_label)[0]\n",
    "        pos_idx = np.random.choice(pos_idxs)\n",
    "\n",
    "        return pos_idx\n",
    "\n",
    "    def _mine_negative(self, anchor_idx: int):\n",
    "        labels: np.ndarray = self.dataset.img_labels\n",
    "\n",
    "        anchor_label = labels[anchor_idx]\n",
    "        neg_idxs = np.nonzero(labels != anchor_label)[0]\n",
    "        neg_idx = np.random.choice(neg_idxs)\n",
    "\n",
    "        return neg_idx"
   ]
  },
  {
   "cell_type": "code",
   "execution_count": null,
   "metadata": {
    "cellId": "f6tcl0cqlac5e4eqk52ol"
   },
   "outputs": [],
   "source": [
    "ex_size = 100\n",
    "np.random.seed(42)\n",
    "\n",
    "# в нашем примере названием картинки будет выступать число от 0 до 99, а лейблом число от 0 до 4.\n",
    "ex_dataset = SimpleDataset(img_names=np.arange(ex_size),\n",
    "                           img_labels=np.random.randint(0, 5, size=ex_size))\n",
    "ex_sampler = SimpleTripletSampler(dataset=ex_dataset)\n",
    "\n",
    "ex_loader = DataLoader(dataset=ex_dataset, batch_size=10, sampler=ex_sampler)"
   ]
  },
  {
   "cell_type": "code",
   "execution_count": null,
   "metadata": {
    "cellId": "8z6lx8z9q1s0npxi2edxuz"
   },
   "outputs": [],
   "source": [
    "# В этой ячейке мы дергаем первый батч с названиями картинок и достаем их лейблы, \n",
    "#  чтобы проверить действительно ли у них одинаковые или разные лейблы.\n",
    "# Для тренировки сети с триплет лоссом сами лейблы нам не нужны будут.\n",
    "#  Главное чтобы триплеты картинок формировались правильно: anchor, positive, negative\n",
    "\n",
    "ex_batch = next(iter(ex_loader))\n",
    "\n",
    "ex_batch_anc_labels = ex_dataset.img_labels[ex_batch[0]]\n",
    "ex_batch_pos_labels = ex_dataset.img_labels[ex_batch[1]]\n",
    "ex_batch_neg_labels = ex_dataset.img_labels[ex_batch[2]]"
   ]
  },
  {
   "cell_type": "code",
   "execution_count": null,
   "metadata": {
    "cellId": "vxcfeoyptv0eboo06ouk96"
   },
   "outputs": [],
   "source": [
    "print('All anchor and positive labels are equal:', np.all(ex_batch_anc_labels == ex_batch_pos_labels))\n",
    "print('Any of anchor and negative labels are equal:', np.any(ex_batch_anc_labels == ex_batch_neg_labels))"
   ]
  }
 ],
 "metadata": {
  "kernelspec": {
   "display_name": "Python 3",
   "language": "python",
   "name": "python3"
  },
  "language_info": {
   "codemirror_mode": {
    "name": "ipython",
    "version": 3
   },
   "file_extension": ".py",
   "mimetype": "text/x-python",
   "name": "python",
   "nbconvert_exporter": "python",
   "pygments_lexer": "ipython3",
   "version": "3.8.5"
  },
  "notebookId": "9935212b-e500-44f9-a4c4-3120eefe04fc"
 },
 "nbformat": 4,
 "nbformat_minor": 4
}
