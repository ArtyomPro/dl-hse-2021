{
 "cells": [
  {
   "cell_type": "markdown",
   "metadata": {
    "id": "cIu1b5Xo4Bdd"
   },
   "source": [
    "# CV part one\n",
    "\n",
    "[![Open In Colab](https://colab.research.google.com/assets/colab-badge.svg)](https://colab.research.google.com/github/m12sl/dl-hse-2021/blob/master/05-computer-vision-1/homework.ipynb)\n",
    "\n",
    "В этой тетрадке мы рассмотрим задачу распознавания лиц на примере датасета [CelebA](http://mmlab.ie.cuhk.edu.hk/projects/CelebA.html)"
   ]
  },
  {
   "cell_type": "code",
   "execution_count": 1,
   "metadata": {
    "execution": {
     "iopub.execute_input": "2021-02-18T10:18:27.944817Z",
     "iopub.status.busy": "2021-02-18T10:18:27.944294Z",
     "iopub.status.idle": "2021-02-18T10:18:28.654269Z",
     "shell.execute_reply": "2021-02-18T10:18:28.653648Z",
     "shell.execute_reply.started": "2021-02-18T10:18:27.944776Z"
    },
    "id": "TyTa9uFb4Bdl"
   },
   "outputs": [],
   "source": [
    "# from pathlib import Path\n",
    "\n",
    "import numpy as np\n",
    "# import pandas as pd\n",
    "# from tqdm import tqdm\n",
    "# import cv2\n",
    "\n",
    "# import torch\n",
    "import torch.nn as nn\n",
    "# import torch.nn.functional as F\n",
    "# from torch import optim\n",
    "from torch.utils.data import Dataset, DataLoader, Sampler\n",
    "from torchvision.models import resnet34\n",
    "# from torch.utils.tensorboard import SummaryWriter"
   ]
  },
  {
   "cell_type": "markdown",
   "metadata": {
    "id": "CiLnuFXG4Bdm"
   },
   "source": [
    "## Data\n",
    "\n",
    "**!!! FIX HERE !!!**\n",
    "Качаем архив с картинками с YaCloud Storage.\n",
    "Его структура следующая:\n",
    "- /\n",
    "    - /train.csv\n",
    "    - /val.csv\n",
    "    - /images/{image}.jpg\n",
    "\n",
    "CSV файлы содержат название файла (`image`) и его лейбл (`label`).\n",
    "\n",
    "Распакуйте архив в текущую папку:\n",
    "`unzip -q ./mnist_data2.zip -d ./`"
   ]
  },
  {
   "cell_type": "markdown",
   "metadata": {
    "id": "i8b_O3Y94Bdq"
   },
   "source": [
    "## Задание 1\n",
    "**(0.2 балла)** Напишите класс датасет, который будет возвращать картинку и ее лейбл."
   ]
  },
  {
   "cell_type": "code",
   "execution_count": null,
   "metadata": {},
   "outputs": [],
   "source": [
    "class CelebADataset(Dataset):\n",
    "    def __init__(self):\n",
    "        pass\n",
    "\n",
    "    def __len__(self):\n",
    "        pass\n",
    "    \n",
    "    def __getitem__(self, index):\n",
    "        pass"
   ]
  },
  {
   "cell_type": "markdown",
   "metadata": {
    "id": "i8b_O3Y94Bdq"
   },
   "source": [
    "## Задание 2\n",
    "**(0.2 балла)** Напишите функцию, которая будет считать метрику top-n accuracy.\n",
    "\n",
    "*Hint:* Из выданных сеткой предсказаний выбираем `n` наиболее уверенных. Если среди них есть правильный ответ, то увеличиваем числитель и знаменатель на единицу, иначе увеличиваем только знаменатель."
   ]
  },
  {
   "cell_type": "code",
   "execution_count": null,
   "metadata": {},
   "outputs": [],
   "source": [
    "def top_n_accuracy(preds: np.ndarray,\n",
    "                   targets: np.ndarray,\n",
    "                   n_size: int) -> float:\n",
    "    pass"
   ]
  },
  {
   "cell_type": "markdown",
   "metadata": {
    "id": "i8b_O3Y94Bdq"
   },
   "source": [
    "## Задание 3\n",
    "**(0.2 балла)** Решите задачу без дообучения.\n",
    "\n",
    "*Step-by-step:*\n",
    "1. Инициализируйте предобученную сетку (`backbone`).\n",
    "1. Прогоните через нее все картинки из валидационного датасета и сложите полученные эмбеддинги в массив.\n",
    "1. Для каждого вектора найдите ближайшие к нему векторы и отсортируйте их по расстоянию. Лейблы соседних векторов будут предсказаниями для текущего вектора.\n",
    "1. Оставьте топ-5 уникальных предсказаний.\n",
    "1. Посчитайте и выведите метрики:\n",
    "    1. top-1 accuracy\n",
    "    1. top-5 accuracy\n",
    "\n",
    "*Вопросы:*\n",
    "1. Зачем мы заменяем последний линейный слой на `Identity` ?\n",
    "1. Зачем используем на сетке метод `eval` ?"
   ]
  },
  {
   "cell_type": "code",
   "execution_count": null,
   "metadata": {},
   "outputs": [],
   "source": [
    "backbone = resnet34(pretrained=True)\n",
    "backbone.fc = nn.Identity()\n",
    "backbone = backbone.eval()"
   ]
  },
  {
   "cell_type": "code",
   "execution_count": null,
   "metadata": {},
   "outputs": [],
   "source": []
  },
  {
   "cell_type": "markdown",
   "metadata": {
    "id": "i8b_O3Y94Bdq"
   },
   "source": [
    "## Задание 4\n",
    "**(0.4 балла)** Решите задачу с дообучением на эмбеддингах.\n",
    "\n",
    "*Step-by-step:*\n",
    "1. Напишите небольшую сетку произвольной архитектуры, которая будет использовать эмбеды, выдаваемые `backbone` сетью.\n",
    "1. Напишите класс Dataset, который будет возвращать эмбединг и лейбл.\n",
    "1. Напишите класс Sampler [PyTroch docs](https://pytorch.org/docs/stable/data.html#data-loading-order-and-sampler), который будет отвечать за правильность сбора тренировочных батчей: якорный пример, позитивный, негативный.\n",
    "1. Обучите ее на тренировочном датасете:\n",
    "    1. Лосс -- [triplet loss](https://pytorch.org/docs/stable/generated/torch.nn.TripletMarginLoss.html).\n",
    "    1. Метрика -- top-5 accuracy.\n",
    "1. Посчитайте top-1 и top-5 accuracy на валидации. Насколько сильно они отличаются от того, что получилось в предыдущем задании?\n",
    "\n",
    "\n",
    "*Hints:*\n",
    "1. Убедитесь, что у каждого лейбла есть как минимум 2 примера, иначе не получится достать позитивный пример.\n",
    "1. Лучше предварительно прогнать все картинки из трейна и сохранить полученные эмбеддинги, чтобы при обучении сети грузить только эмбеды (векторы)."
   ]
  },
  {
   "cell_type": "code",
   "execution_count": null,
   "metadata": {},
   "outputs": [],
   "source": [
    "class CelebAEmbeddingDataset(Dataset):\n",
    "    def __init__(self):\n",
    "        pass\n",
    "\n",
    "    def __len__(self):\n",
    "        pass\n",
    "    \n",
    "    def __getitem__(self, index):\n",
    "        pass\n",
    "    \n",
    "\n",
    "class CelebATripletSampler(Sampler):\n",
    "    def __init__(self):\n",
    "        pass\n",
    "\n",
    "    def __len__(self):\n",
    "        pass\n",
    "\n",
    "    def __iter__(self):\n",
    "        pass"
   ]
  },
  {
   "cell_type": "code",
   "execution_count": null,
   "metadata": {},
   "outputs": [],
   "source": []
  },
  {
   "cell_type": "code",
   "execution_count": null,
   "metadata": {},
   "outputs": [],
   "source": [
    "# your code must be before example"
   ]
  },
  {
   "cell_type": "markdown",
   "metadata": {},
   "source": [
    "## Sampler (simple example)\n",
    "\n",
    "В блоках ниже реализован пример датасета и сэмлера, который возвращает индексы для триплет лосса.\n",
    "\n",
    "Датасет написан топорно, но основная логика следующая. Если ему на вход приходит `int`, то он возвращает название картинки (`img_name`) и ее лейбл (`img_label`). Если же приходит нечто длиной 3, то он возвращает 3 названия картинок, соответственно. В нашем случае это будет три картинки с двумя одинаковыми лейблами и одним другим: anchor, positive, negative.  \n",
    "Сэмплер `SimpleTripletSampler`, в свою очередь, отвечает за формирование и поставку в датасет индексов триплетов.\n",
    "\n",
    "Датасет и сэмлер объединяются внутри даталоадера.\n",
    "\n",
    "*Hint:* Код написан только лишь для примера, поэтому логика возвращения триплетов может быть неверной."
   ]
  },
  {
   "cell_type": "code",
   "execution_count": 2,
   "metadata": {
    "execution": {
     "iopub.execute_input": "2021-02-18T10:18:31.946882Z",
     "iopub.status.busy": "2021-02-18T10:18:31.946347Z",
     "iopub.status.idle": "2021-02-18T10:18:31.964335Z",
     "shell.execute_reply": "2021-02-18T10:18:31.963442Z",
     "shell.execute_reply.started": "2021-02-18T10:18:31.946836Z"
    }
   },
   "outputs": [],
   "source": [
    "class SimpleDataset(Dataset):\n",
    "    def __init__(self, img_names: np.ndarray,\n",
    "                 img_labels: np.ndarray):\n",
    "        if len(img_names) != len(img_labels):\n",
    "            raise ValueError('img_names and img_labels must have equal number of elements')\n",
    "\n",
    "        self.img_names = img_names\n",
    "        self.img_labels = img_labels\n",
    "\n",
    "    def __len__(self):\n",
    "        return len(self.img_names)\n",
    "    \n",
    "    def __getitem__(self, idx):\n",
    "        if isinstance(idx, int):\n",
    "            img_name = self.img_names[idx]\n",
    "            img_label = self.img_labels[idx]\n",
    "            \n",
    "            return img_name, img_label\n",
    "        else:\n",
    "            assert len(idx) == 3\n",
    "            \n",
    "            anc_idx, pos_idx, neg_idx = idx\n",
    "            anc_img_name = self.img_names[anc_idx]\n",
    "            pos_img_name = self.img_names[pos_idx]\n",
    "            neg_img_name = self.img_names[neg_idx]\n",
    "\n",
    "            return anc_img_name, pos_img_name, neg_img_name\n",
    "\n",
    "\n",
    "class SimpleTripletSampler(Sampler):\n",
    "    def __init__(self, dataset: Dataset):\n",
    "        super().__init__(dataset)\n",
    "\n",
    "        self.dataset = dataset\n",
    "\n",
    "    def __len__(self):\n",
    "        return len(self.dataset)\n",
    "\n",
    "    def __iter__(self):\n",
    "        for anchor_idx in range(len(self.dataset)):\n",
    "            positive_idx = self._mine_positive(anchor_idx)\n",
    "            negative_idx = self._mine_negative(anchor_idx)\n",
    "\n",
    "            yield anchor_idx, positive_idx, negative_idx\n",
    "\n",
    "    def _mine_positive(self, anchor_idx: int):\n",
    "        labels: np.ndarray = self.dataset.img_labels\n",
    "\n",
    "        anchor_label = labels[anchor_idx]\n",
    "        pos_idxs = np.nonzero(labels == anchor_label)[0]\n",
    "        pos_idx = np.random.choice(pos_idxs)\n",
    "\n",
    "        return pos_idx\n",
    "\n",
    "    def _mine_negative(self, anchor_idx: int):\n",
    "        labels: np.ndarray = self.dataset.img_labels\n",
    "\n",
    "        anchor_label = labels[anchor_idx]\n",
    "        neg_idxs = np.nonzero(labels != anchor_label)[0]\n",
    "        neg_idx = np.random.choice(neg_idxs)\n",
    "\n",
    "        return neg_idx"
   ]
  },
  {
   "cell_type": "code",
   "execution_count": 3,
   "metadata": {
    "execution": {
     "iopub.execute_input": "2021-02-18T10:18:33.841899Z",
     "iopub.status.busy": "2021-02-18T10:18:33.841388Z",
     "iopub.status.idle": "2021-02-18T10:18:33.850043Z",
     "shell.execute_reply": "2021-02-18T10:18:33.848499Z",
     "shell.execute_reply.started": "2021-02-18T10:18:33.841853Z"
    }
   },
   "outputs": [],
   "source": [
    "ex_size = 100\n",
    "np.random.seed(42)\n",
    "\n",
    "# в нашем примере названием картинки будет выступать число от 0 до 99, а лейблом число от 0 до 4.\n",
    "ex_dataset = SimpleDataset(img_names=np.arange(ex_size),\n",
    "                           img_labels=np.random.randint(0, 5, size=ex_size))\n",
    "ex_sampler = SimpleTripletSampler(dataset=ex_dataset)\n",
    "\n",
    "ex_loader = DataLoader(dataset=ex_dataset, batch_size=10, sampler=ex_sampler)"
   ]
  },
  {
   "cell_type": "code",
   "execution_count": 4,
   "metadata": {
    "execution": {
     "iopub.execute_input": "2021-02-18T10:18:34.881696Z",
     "iopub.status.busy": "2021-02-18T10:18:34.881191Z",
     "iopub.status.idle": "2021-02-18T10:18:34.890021Z",
     "shell.execute_reply": "2021-02-18T10:18:34.889001Z",
     "shell.execute_reply.started": "2021-02-18T10:18:34.881651Z"
    }
   },
   "outputs": [],
   "source": [
    "# В этой ячейке мы дергаем первый батч с названиями картинок и достаем их лейблы, \n",
    "#  чтобы проверить действительно ли у них одинаковые или разные лейблы.\n",
    "# Для тренировки сети с триплет лоссом сами лейблы нам не нужны будут.\n",
    "#  Главное чтобы триплеты картинок формировались правильно: anchor, positive, negative\n",
    "\n",
    "ex_batch = next(iter(ex_loader))\n",
    "\n",
    "ex_batch_anc_labels = ex_dataset.img_labels[ex_batch[0]]\n",
    "ex_batch_pos_labels = ex_dataset.img_labels[ex_batch[1]]\n",
    "ex_batch_neg_labels = ex_dataset.img_labels[ex_batch[2]]"
   ]
  },
  {
   "cell_type": "code",
   "execution_count": 5,
   "metadata": {
    "execution": {
     "iopub.execute_input": "2021-02-18T10:18:36.244647Z",
     "iopub.status.busy": "2021-02-18T10:18:36.244278Z",
     "iopub.status.idle": "2021-02-18T10:18:36.249408Z",
     "shell.execute_reply": "2021-02-18T10:18:36.248702Z",
     "shell.execute_reply.started": "2021-02-18T10:18:36.244615Z"
    }
   },
   "outputs": [
    {
     "name": "stdout",
     "output_type": "stream",
     "text": [
      "All anchor and positive labels are equal: True\n",
      "Any of anchor and negative labels are equal: False\n"
     ]
    }
   ],
   "source": [
    "print('All anchor and positive labels are equal:', np.all(ex_batch_anc_labels == ex_batch_pos_labels))\n",
    "print('Any of anchor and negative labels are equal:', np.any(ex_batch_anc_labels == ex_batch_neg_labels))"
   ]
  },
  {
   "cell_type": "code",
   "execution_count": null,
   "metadata": {},
   "outputs": [],
   "source": []
  },
  {
   "cell_type": "code",
   "execution_count": null,
   "metadata": {},
   "outputs": [],
   "source": []
  }
 ],
 "metadata": {
  "kernelspec": {
   "display_name": "Python 3",
   "language": "python",
   "name": "python3"
  },
  "language_info": {
   "codemirror_mode": {
    "name": "ipython",
    "version": 3
   },
   "file_extension": ".py",
   "mimetype": "text/x-python",
   "name": "python",
   "nbconvert_exporter": "python",
   "pygments_lexer": "ipython3",
   "version": "3.8.5"
  }
 },
 "nbformat": 4,
 "nbformat_minor": 4
}
