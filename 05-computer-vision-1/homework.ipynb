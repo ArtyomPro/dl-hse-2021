{
 "cells": [
  {
   "cell_type": "markdown",
   "metadata": {},
   "source": [
    "Делаем распознавание лиц\n",
    "\n",
    "1. Датасет [CelebA](http://mmlab.ie.cuhk.edu.hk/projects/CelebA.html)\n",
    "2. Можно использовать претренированные сети\n",
    "3. Пробовать на другом выравнивании?"
   ]
  }
 ],
 "metadata": {
  "kernelspec": {
   "display_name": "base",
   "language": "python",
   "name": "base"
  },
  "language_info": {
   "codemirror_mode": {
    "name": "ipython",
    "version": 3
   },
   "file_extension": ".py",
   "mimetype": "text/x-python",
   "name": "python",
   "nbconvert_exporter": "python",
   "pygments_lexer": "ipython3",
   "version": "3.7.3"
  }
 },
 "nbformat": 4,
 "nbformat_minor": 2
}
