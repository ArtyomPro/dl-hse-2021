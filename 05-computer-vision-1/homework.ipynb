{
 "cells": [
  {
   "cell_type": "markdown",
   "metadata": {
    "id": "cIu1b5Xo4Bdd"
   },
   "source": [
    "# CV part one\n",
    "\n",
    "[![Open In Colab](https://colab.research.google.com/assets/colab-badge.svg)](https://colab.research.google.com/github/m12sl/dl-hse-2021/blob/master/05-computer-vision-1/homework.ipynb)\n",
    "\n",
    "В этой тетрадке мы рассмотрим задачу распознавания лиц на примере датасета [CelebA](http://mmlab.ie.cuhk.edu.hk/projects/CelebA.html)"
   ]
  },
  {
   "cell_type": "code",
   "execution_count": null,
   "metadata": {
    "id": "TyTa9uFb4Bdl"
   },
   "outputs": [],
   "source": [
    "# from pathlib import Path\n",
    "\n",
    "import numpy as np\n",
    "# import pandas as pd\n",
    "# from tqdm import tqdm\n",
    "# import cv2\n",
    "\n",
    "# import torch\n",
    "import torch.nn as nn\n",
    "# import torch.nn.functional as F\n",
    "# from torch import optim\n",
    "from torch.utils.data import Dataset, DataLoader\n",
    "from torchvision.models import resnet34\n",
    "# from torch.utils.tensorboard import SummaryWriter"
   ]
  },
  {
   "cell_type": "markdown",
   "metadata": {
    "id": "CiLnuFXG4Bdm"
   },
   "source": [
    "## Data\n",
    "\n",
    "Качаем архив с картинками [Google Drive](https://drive.google.com/file/d/0B7EVK8r0v71pZjFTYXZWM3FlRnM/view?usp=sharing). \n",
    "Его структура следующая:\n",
    "- /\n",
    "    - /train.csv\n",
    "    - /val.csv\n",
    "    - /images/{image}.jpg\n",
    "\n",
    "CSV файлы содержат название файла (`image`) и его лейбл (`label`).\n",
    "\n",
    "Распакуйте архив в текущую папку:\n",
    "`unzip -q ./mnist_data2.zip -d ./`"
   ]
  },
  {
   "cell_type": "markdown",
   "metadata": {
    "id": "i8b_O3Y94Bdq"
   },
   "source": [
    "## Задание 1\n",
    "**(0.2 балла)** Напишите класс датасет, который будет возвращать картинку и ее лейбл."
   ]
  },
  {
   "cell_type": "code",
   "execution_count": null,
   "metadata": {},
   "outputs": [],
   "source": [
    "class CelebADataset(Dataset):\n",
    "    def __init__(self):\n",
    "        pass\n",
    "\n",
    "    def __len__(self):\n",
    "        pass\n",
    "    \n",
    "    def __getitem__(self, index):\n",
    "        pass"
   ]
  },
  {
   "cell_type": "markdown",
   "metadata": {
    "id": "i8b_O3Y94Bdq"
   },
   "source": [
    "## Задание 2\n",
    "**(0.2 балла)** Напишите функцию, которая будет считать метрику top-n accuracy.\n",
    "\n",
    "*Hint:* Из выданных сеткой предсказаний выбираем `n` наиболее уверенных. Если среди них есть правильный ответ, то увеличиваем числитель и знаменатель на единицу, иначе увеличиваем только знаменатель."
   ]
  },
  {
   "cell_type": "code",
   "execution_count": null,
   "metadata": {},
   "outputs": [],
   "source": [
    "def top_n_accuracy(preds: np.ndarray,\n",
    "                   targets: np.ndarray,\n",
    "                   n_size: int) -> float:\n",
    "    pass"
   ]
  },
  {
   "cell_type": "markdown",
   "metadata": {
    "id": "i8b_O3Y94Bdq"
   },
   "source": [
    "## Задание 3\n",
    "**(0.2 балла)** Решите задачу без дообучения.\n",
    "\n",
    "*Step-by-step:*\n",
    "1. Инициализируйте предобученную сетку (`backbone`).\n",
    "1. Прогоните через нее все картинки из валидационного датасета и сложите полученные эмбеддинги в массив.\n",
    "1. Для каждого вектора найдите ближайшие к нему векторы и отсортируйте их по расстоянию. Лейблы соседних векторов будут предсказаниями для текущего вектора.\n",
    "1. Оставьте топ-5 уникальных предсказаний.\n",
    "1. Посчитайте и выведите метрики:\n",
    "    1. top-1 accuracy\n",
    "    1. top-5 accuracy\n",
    "\n",
    "*Вопросы:*\n",
    "1. Зачем мы заменяем последний линейный слой на `Identity` ?\n",
    "1. Зачем используем на сетке метод `eval` ?"
   ]
  },
  {
   "cell_type": "code",
   "execution_count": null,
   "metadata": {},
   "outputs": [],
   "source": [
    "backbone = resnet34(pretrained=True)\n",
    "backbone.fc = nn.Identity()\n",
    "backbone = backbone.eval()"
   ]
  },
  {
   "cell_type": "code",
   "execution_count": null,
   "metadata": {},
   "outputs": [],
   "source": []
  },
  {
   "cell_type": "markdown",
   "metadata": {
    "id": "i8b_O3Y94Bdq"
   },
   "source": [
    "## Задание 4\n",
    "**(0.4 балла)** Решите задачу с дообучением на эмбеддингах.\n",
    "\n",
    "*Step-by-step:*\n",
    "1. Напишите небольшую сетку произвольной архитектуры, которая будет использовать эмбеды, выдаваемые `backbone` сетью.\n",
    "1. Напишите класс Dataset, который будет возвращать эмбединг и лейбл.\n",
    "1. Напишите класс Sampler, который будет отвечать за правильность сбора батчей: якорный пример, позитивный, негативный.\n",
    "1. Обучите ее на тренировочном датасете:\n",
    "    1. Лосс -- [triplet loss](https://pytorch.org/docs/stable/generated/torch.nn.TripletMarginLoss.html).\n",
    "    1. Метрика -- top-5 accuracy.\n",
    "1. Посчитайте top-1 и top-5 accuracy на валидации. Насколько сильно они отличаются от того, что получилось в предыдущем задании?\n",
    "\n",
    "\n",
    "*Hints:*\n",
    "1. Убедитесь, что у каждого лейбла есть как минимум 2 примера.\n",
    "1. Лучше предварительно прогнать все картинки из трейна и сохранить полученные эмбеддинги, чтобы при обучении сети грузить только их эмбеды (векторы)."
   ]
  },
  {
   "cell_type": "code",
   "execution_count": null,
   "metadata": {},
   "outputs": [],
   "source": [
    "class CelebAEmbeddingDataset(Dataset):\n",
    "    def __init__(self):\n",
    "        pass\n",
    "\n",
    "    def __len__(self):\n",
    "        pass\n",
    "    \n",
    "    def __getitem__(self, index):\n",
    "        pass"
   ]
  },
  {
   "cell_type": "code",
   "execution_count": null,
   "metadata": {},
   "outputs": [],
   "source": []
  }
 ],
 "metadata": {
  "kernelspec": {
   "display_name": "Python 3",
   "language": "python",
   "name": "python3"
  },
  "language_info": {
   "codemirror_mode": {
    "name": "ipython",
    "version": 3
   },
   "file_extension": ".py",
   "mimetype": "text/x-python",
   "name": "python",
   "nbconvert_exporter": "python",
   "pygments_lexer": "ipython3",
   "version": "3.8.5"
  }
 },
 "nbformat": 4,
 "nbformat_minor": 4
}
